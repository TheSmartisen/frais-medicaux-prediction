{
 "cells": [
  {
   "cell_type": "markdown",
   "metadata": {},
   "source": [
    "## Phase 3 : Modélisation, entraînement et optimisation des modèles de régression"
   ]
  },
  {
   "cell_type": "markdown",
   "metadata": {},
   "source": [
    "### Configuration"
   ]
  },
  {
   "cell_type": "code",
   "execution_count": 24,
   "metadata": {},
   "outputs": [],
   "source": [
    "import seaborn as sns \n",
    "import matplotlib as plt\n",
    "import pandas as pd\n",
    "import numpy as np\n",
    "import pickle\n",
    "\n",
    "DATA_PATH = \"../data/\"\n",
    "RAW_FILE = DATA_PATH + \"raw/insurance.csv\"\n",
    "CLEAN_FILE = DATA_PATH + \"process/insurance_clean.csv\"\n",
    "OUTPUT_PATH = \"../output/\"\n",
    "ENCODAGE_FILE = OUTPUT_PATH + \"pickle/encoders.pkl\"\n",
    "TRAINING_FILE = OUTPUT_PATH + \"pickle/model.pkl\"\n",
    "COLUMN_FILE = OUTPUT_PATH + \"pickle/columns.pkl\""
   ]
  },
  {
   "cell_type": "code",
   "execution_count": 2,
   "metadata": {},
   "outputs": [],
   "source": [
    "df = pd.read_csv(CLEAN_FILE, sep=\",\", header=0)"
   ]
  },
  {
   "cell_type": "markdown",
   "metadata": {},
   "source": [
    "### Division des données"
   ]
  },
  {
   "cell_type": "code",
   "execution_count": 3,
   "metadata": {},
   "outputs": [],
   "source": [
    "from sklearn.model_selection import train_test_split\n",
    "\n",
    "features = df.drop([\"expenses\", \"log_expenses\"], axis = 1) # Variable explicatif\n",
    "target = df[\"log_expenses\"] # Variable cible transformée\n",
    "\n",
    "features_train, features_test, target_train, target_test = train_test_split(features, target, test_size=0.2, random_state=42)"
   ]
  },
  {
   "cell_type": "markdown",
   "metadata": {},
   "source": [
    "### Selection de modèle de régression"
   ]
  },
  {
   "cell_type": "code",
   "execution_count": 10,
   "metadata": {},
   "outputs": [
    {
     "name": "stdout",
     "output_type": "stream",
     "text": [
      "Évaluation du modèle : Linear Regression\n",
      "Évaluation du modèle : Ridge Regression\n",
      "Évaluation du modèle : Lasso Regression\n",
      "Évaluation du modèle : Random Forest\n",
      "Évaluation du modèle : Support Vector Regressor\n",
      "Évaluation du modèle : XGBoost\n",
      "Évaluation du modèle : LightGBM\n",
      "[LightGBM] [Info] Total Bins 295\n",
      "[LightGBM] [Info] Number of data points in the train set: 1063, number of used features: 9\n",
      "[LightGBM] [Info] Start training from score 9.097237\n",
      "[LightGBM] [Info] Total Bins 297\n",
      "[LightGBM] [Info] Number of data points in the train set: 1063, number of used features: 9\n",
      "[LightGBM] [Info] Start training from score 9.095902\n",
      "[LightGBM] [Info] Total Bins 262\n",
      "[LightGBM] [Info] Number of data points in the train set: 1063, number of used features: 9\n",
      "[LightGBM] [Info] Start training from score 9.105652\n",
      "[LightGBM] [Info] Total Bins 260\n",
      "[LightGBM] [Info] Number of data points in the train set: 1063, number of used features: 9\n",
      "[LightGBM] [Info] Start training from score 9.096591\n",
      "[LightGBM] [Info] Total Bins 296\n",
      "[LightGBM] [Info] Number of data points in the train set: 1064, number of used features: 9\n",
      "[LightGBM] [Info] Start training from score 9.090676\n",
      "[LightGBM] [Info] Total Bins 295\n",
      "[LightGBM] [Info] Number of data points in the train set: 1063, number of used features: 9\n",
      "[LightGBM] [Info] Start training from score 9.097237\n",
      "[LightGBM] [Info] Total Bins 297\n",
      "[LightGBM] [Info] Number of data points in the train set: 1063, number of used features: 9\n",
      "[LightGBM] [Info] Start training from score 9.095902\n",
      "[LightGBM] [Info] Total Bins 262\n",
      "[LightGBM] [Info] Number of data points in the train set: 1063, number of used features: 9\n",
      "[LightGBM] [Info] Start training from score 9.105652\n",
      "[LightGBM] [Info] Total Bins 260\n",
      "[LightGBM] [Info] Number of data points in the train set: 1063, number of used features: 9\n",
      "[LightGBM] [Info] Start training from score 9.096591\n",
      "[LightGBM] [Info] Total Bins 296\n",
      "[LightGBM] [Info] Number of data points in the train set: 1064, number of used features: 9\n",
      "[LightGBM] [Info] Start training from score 9.090676\n",
      "[LightGBM] [Info] Total Bins 295\n",
      "[LightGBM] [Info] Number of data points in the train set: 1063, number of used features: 9\n",
      "[LightGBM] [Info] Start training from score 9.097237\n",
      "[LightGBM] [Info] Total Bins 297\n",
      "[LightGBM] [Info] Number of data points in the train set: 1063, number of used features: 9\n",
      "[LightGBM] [Info] Start training from score 9.095902\n",
      "[LightGBM] [Info] Total Bins 262\n",
      "[LightGBM] [Info] Number of data points in the train set: 1063, number of used features: 9\n",
      "[LightGBM] [Info] Start training from score 9.105652\n",
      "[LightGBM] [Info] Total Bins 260\n",
      "[LightGBM] [Info] Number of data points in the train set: 1063, number of used features: 9\n",
      "[LightGBM] [Info] Start training from score 9.096591\n",
      "[LightGBM] [Info] Total Bins 296\n",
      "[LightGBM] [Info] Number of data points in the train set: 1064, number of used features: 9\n",
      "[LightGBM] [Info] Start training from score 9.090676\n"
     ]
    },
    {
     "data": {
      "text/html": [
       "<div>\n",
       "<style scoped>\n",
       "    .dataframe tbody tr th:only-of-type {\n",
       "        vertical-align: middle;\n",
       "    }\n",
       "\n",
       "    .dataframe tbody tr th {\n",
       "        vertical-align: top;\n",
       "    }\n",
       "\n",
       "    .dataframe thead th {\n",
       "        text-align: right;\n",
       "    }\n",
       "</style>\n",
       "<table border=\"1\" class=\"dataframe\">\n",
       "  <thead>\n",
       "    <tr style=\"text-align: right;\">\n",
       "      <th></th>\n",
       "      <th>Model</th>\n",
       "      <th>Mean Absolute Error (MAE)</th>\n",
       "      <th>Mean Squared Error (MSE)</th>\n",
       "      <th>R2 Score</th>\n",
       "    </tr>\n",
       "  </thead>\n",
       "  <tbody>\n",
       "    <tr>\n",
       "      <th>0</th>\n",
       "      <td>Linear Regression</td>\n",
       "      <td>0.280584</td>\n",
       "      <td>0.198758</td>\n",
       "      <td>0.762937</td>\n",
       "    </tr>\n",
       "    <tr>\n",
       "      <th>1</th>\n",
       "      <td>Ridge Regression</td>\n",
       "      <td>0.280899</td>\n",
       "      <td>0.198772</td>\n",
       "      <td>0.762919</td>\n",
       "    </tr>\n",
       "    <tr>\n",
       "      <th>2</th>\n",
       "      <td>Lasso Regression</td>\n",
       "      <td>0.368981</td>\n",
       "      <td>0.272033</td>\n",
       "      <td>0.675173</td>\n",
       "    </tr>\n",
       "    <tr>\n",
       "      <th>3</th>\n",
       "      <td>Random Forest</td>\n",
       "      <td>0.202803</td>\n",
       "      <td>0.160813</td>\n",
       "      <td>0.808205</td>\n",
       "    </tr>\n",
       "    <tr>\n",
       "      <th>4</th>\n",
       "      <td>Support Vector Regressor</td>\n",
       "      <td>0.455811</td>\n",
       "      <td>0.618015</td>\n",
       "      <td>0.262888</td>\n",
       "    </tr>\n",
       "    <tr>\n",
       "      <th>5</th>\n",
       "      <td>XGBoost</td>\n",
       "      <td>0.243842</td>\n",
       "      <td>0.197779</td>\n",
       "      <td>0.765060</td>\n",
       "    </tr>\n",
       "    <tr>\n",
       "      <th>6</th>\n",
       "      <td>LightGBM</td>\n",
       "      <td>0.215887</td>\n",
       "      <td>0.156385</td>\n",
       "      <td>0.813457</td>\n",
       "    </tr>\n",
       "  </tbody>\n",
       "</table>\n",
       "</div>"
      ],
      "text/plain": [
       "                      Model  Mean Absolute Error (MAE)  \\\n",
       "0         Linear Regression                   0.280584   \n",
       "1          Ridge Regression                   0.280899   \n",
       "2          Lasso Regression                   0.368981   \n",
       "3             Random Forest                   0.202803   \n",
       "4  Support Vector Regressor                   0.455811   \n",
       "5                   XGBoost                   0.243842   \n",
       "6                  LightGBM                   0.215887   \n",
       "\n",
       "   Mean Squared Error (MSE)  R2 Score  \n",
       "0                  0.198758  0.762937  \n",
       "1                  0.198772  0.762919  \n",
       "2                  0.272033  0.675173  \n",
       "3                  0.160813  0.808205  \n",
       "4                  0.618015  0.262888  \n",
       "5                  0.197779  0.765060  \n",
       "6                  0.156385  0.813457  "
      ]
     },
     "execution_count": 10,
     "metadata": {},
     "output_type": "execute_result"
    }
   ],
   "source": [
    "from sklearn.linear_model import LinearRegression, Ridge, Lasso\n",
    "from sklearn.ensemble import RandomForestRegressor\n",
    "from sklearn.svm import SVR\n",
    "from sklearn.metrics import mean_squared_error, mean_absolute_error, r2_score\n",
    "from xgboost import XGBRegressor\n",
    "from lightgbm import LGBMRegressor\n",
    "from sklearn.model_selection import cross_val_score\n",
    "\n",
    "# Initialiser les modèles\n",
    "models = {\n",
    "    \"Linear Regression\": LinearRegression(),\n",
    "    \"Ridge Regression\": Ridge(alpha=1.0),\n",
    "    \"Lasso Regression\": Lasso(alpha=0.1),\n",
    "    \"Random Forest\": RandomForestRegressor(n_estimators=100, random_state=42),\n",
    "    \"Support Vector Regressor\": SVR(kernel='rbf', C=1.0, epsilon=0.1),\n",
    "    \"XGBoost\": XGBRegressor(n_estimators=100, random_state=42),\n",
    "    \"LightGBM\": LGBMRegressor(n_estimators=100, random_state=42, force_col_wise=True)\n",
    "}\n",
    "\n",
    "# Stocker les performances des modèles\n",
    "metrics = {\n",
    "    \"Model\": [],\n",
    "    \"Mean Absolute Error (MAE)\": [],\n",
    "    \"Mean Squared Error (MSE)\": [],\n",
    "    \"R2 Score\": []\n",
    "}\n",
    "# Validation croisée\n",
    "cv = 5  # Nombre de plis de la validation croisée\n",
    "\n",
    "# Évaluer chaque modèle avec la validation croisée\n",
    "for name, model in models.items():\n",
    "    print(f\"Évaluation du modèle : {name}\")\n",
    "    \n",
    "    # Calculer les scores pour chaque métrique avec cross_val_score\n",
    "    mse_scores = -cross_val_score(model, features, target, scoring=\"neg_mean_squared_error\", cv=cv)\n",
    "    mae_scores = -cross_val_score(model, features, target, scoring=\"neg_mean_absolute_error\", cv=cv)\n",
    "    r2_scores = cross_val_score(model, features, target, scoring=\"r2\", cv=cv)\n",
    "    \n",
    "    # Calculer les moyennes des métriques\n",
    "    metrics[\"Model\"].append(name)\n",
    "    metrics[\"Mean Absolute Error (MAE)\"].append(np.mean(mae_scores))\n",
    "    metrics[\"Mean Squared Error (MSE)\"].append(np.mean(mse_scores))\n",
    "    metrics[\"R2 Score\"].append(np.mean(r2_scores))\n",
    "\n",
    "# Convertir les métriques en DataFrame pour un affichage clair\n",
    "metrics_df = pd.DataFrame(metrics)\n",
    "metrics_df"
   ]
  },
  {
   "cell_type": "markdown",
   "metadata": {},
   "source": [
    "Le modèle **Random Forest** est choisi pour sa **meilleure performance globale** parmi les modèles testés, avec un **MAE (0.2028)** et un **MSE (0.1608)** faibles, ainsi qu'un **R² élevé (0.8082)**. Il offre un bon équilibre entre précision et robustesse, tout en étant capable de capturer des relations complexes dans les données."
   ]
  },
  {
   "cell_type": "markdown",
   "metadata": {},
   "source": [
    "### Optimisation des hyperparamètres"
   ]
  },
  {
   "cell_type": "code",
   "execution_count": 14,
   "metadata": {},
   "outputs": [
    {
     "name": "stdout",
     "output_type": "stream",
     "text": [
      "Best Hyperparameters: {'n_estimators': 400, 'min_samples_split': 10, 'min_samples_leaf': 4, 'max_features': None, 'max_depth': 20}\n",
      "MAE: 0.19671103278849802\n",
      "MSE: 0.1757655851207517\n",
      "R2 Score: 0.7768171406827596\n"
     ]
    }
   ],
   "source": [
    "from sklearn.ensemble import RandomForestRegressor\n",
    "from sklearn.model_selection import RandomizedSearchCV\n",
    "import numpy as np\n",
    "\n",
    "# Définir les hyperparamètres à tester\n",
    "param_dist = {\n",
    "    'n_estimators': [100, 200, 300, 400, 500],\n",
    "    'max_depth': [10, 20, 30, None],\n",
    "    'min_samples_split': [2, 5, 10],\n",
    "    'min_samples_leaf': [1, 2, 4],\n",
    "    'max_features': ['sqrt', 'log2', None]  # Remplacer 'auto' par None\n",
    "}\n",
    "\n",
    "# Initialiser le modèle\n",
    "rf = RandomForestRegressor(random_state=42)\n",
    "\n",
    "# RandomizedSearchCV\n",
    "random_search = RandomizedSearchCV(\n",
    "    estimator=rf,\n",
    "    param_distributions=param_dist,\n",
    "    n_iter=50,  # Nombre d'itérations à tester\n",
    "    cv=5,  # Validation croisée\n",
    "    scoring='neg_mean_squared_error',  # Métrique d'évaluation\n",
    "    random_state=42,\n",
    "    n_jobs=-1  # Utiliser tous les cœurs disponibles\n",
    ")\n",
    "\n",
    "# Entraîner le modèle avec RandomizedSearchCV\n",
    "random_search.fit(features_train, target_train)\n",
    "\n",
    "# Meilleurs hyperparamètres trouvés\n",
    "print(\"Best Hyperparameters:\", random_search.best_params_)\n",
    "\n",
    "# Modèle optimisé\n",
    "best_rf = random_search.best_estimator_\n",
    "\n",
    "# Prédictions sur le jeu de test\n",
    "y_pred = best_rf.predict(features_test)\n",
    "\n",
    "# Évaluer les métriques\n",
    "print(\"MAE:\", mean_absolute_error(target_test, y_pred))\n",
    "print(\"MSE:\", mean_squared_error(target_test, y_pred))\n",
    "print(\"R2 Score:\", r2_score(target_test, y_pred))"
   ]
  },
  {
   "cell_type": "markdown",
   "metadata": {},
   "source": [
    "### Validation croisée"
   ]
  },
  {
   "cell_type": "markdown",
   "metadata": {},
   "source": [
    "Par défaut, on a utilisé la validation croisée `K-fold`. On va tester les modèles sur d'autres validations croisées."
   ]
  },
  {
   "cell_type": "markdown",
   "metadata": {},
   "source": [
    "#### a. LOOCV"
   ]
  },
  {
   "cell_type": "code",
   "execution_count": 15,
   "metadata": {},
   "outputs": [
    {
     "ename": "KeyboardInterrupt",
     "evalue": "",
     "output_type": "error",
     "traceback": [
      "\u001b[1;31m---------------------------------------------------------------------------\u001b[0m",
      "\u001b[1;31mKeyboardInterrupt\u001b[0m                         Traceback (most recent call last)",
      "Cell \u001b[1;32mIn[15], line 34\u001b[0m\n\u001b[0;32m     23\u001b[0m random_search \u001b[38;5;241m=\u001b[39m RandomizedSearchCV(\n\u001b[0;32m     24\u001b[0m     estimator\u001b[38;5;241m=\u001b[39mrf,\n\u001b[0;32m     25\u001b[0m     param_distributions\u001b[38;5;241m=\u001b[39mparam_dist,\n\u001b[1;32m   (...)\u001b[0m\n\u001b[0;32m     30\u001b[0m     n_jobs\u001b[38;5;241m=\u001b[39m\u001b[38;5;241m-\u001b[39m\u001b[38;5;241m1\u001b[39m  \u001b[38;5;66;03m# Utiliser tous les cœurs disponibles\u001b[39;00m\n\u001b[0;32m     31\u001b[0m )\n\u001b[0;32m     33\u001b[0m \u001b[38;5;66;03m# Entraîner le modèle avec RandomizedSearchCV\u001b[39;00m\n\u001b[1;32m---> 34\u001b[0m \u001b[43mrandom_search\u001b[49m\u001b[38;5;241;43m.\u001b[39;49m\u001b[43mfit\u001b[49m\u001b[43m(\u001b[49m\u001b[43mfeatures_train\u001b[49m\u001b[43m,\u001b[49m\u001b[43m \u001b[49m\u001b[43mtarget_train\u001b[49m\u001b[43m)\u001b[49m\n\u001b[0;32m     36\u001b[0m \u001b[38;5;66;03m# Meilleurs hyperparamètres trouvés\u001b[39;00m\n\u001b[0;32m     37\u001b[0m \u001b[38;5;28mprint\u001b[39m(\u001b[38;5;124m\"\u001b[39m\u001b[38;5;124mBest Hyperparameters:\u001b[39m\u001b[38;5;124m\"\u001b[39m, random_search\u001b[38;5;241m.\u001b[39mbest_params_)\n",
      "File \u001b[1;32mc:\\Users\\Patrick\\OneDrive\\Documents\\Etude\\Simplon\\Brief\\17_Medicaux_prediction\\frais-medicaux-prediction\\.venv\\Lib\\site-packages\\sklearn\\base.py:1473\u001b[0m, in \u001b[0;36m_fit_context.<locals>.decorator.<locals>.wrapper\u001b[1;34m(estimator, *args, **kwargs)\u001b[0m\n\u001b[0;32m   1466\u001b[0m     estimator\u001b[38;5;241m.\u001b[39m_validate_params()\n\u001b[0;32m   1468\u001b[0m \u001b[38;5;28;01mwith\u001b[39;00m config_context(\n\u001b[0;32m   1469\u001b[0m     skip_parameter_validation\u001b[38;5;241m=\u001b[39m(\n\u001b[0;32m   1470\u001b[0m         prefer_skip_nested_validation \u001b[38;5;129;01mor\u001b[39;00m global_skip_validation\n\u001b[0;32m   1471\u001b[0m     )\n\u001b[0;32m   1472\u001b[0m ):\n\u001b[1;32m-> 1473\u001b[0m     \u001b[38;5;28;01mreturn\u001b[39;00m \u001b[43mfit_method\u001b[49m\u001b[43m(\u001b[49m\u001b[43mestimator\u001b[49m\u001b[43m,\u001b[49m\u001b[43m \u001b[49m\u001b[38;5;241;43m*\u001b[39;49m\u001b[43margs\u001b[49m\u001b[43m,\u001b[49m\u001b[43m \u001b[49m\u001b[38;5;241;43m*\u001b[39;49m\u001b[38;5;241;43m*\u001b[39;49m\u001b[43mkwargs\u001b[49m\u001b[43m)\u001b[49m\n",
      "File \u001b[1;32mc:\\Users\\Patrick\\OneDrive\\Documents\\Etude\\Simplon\\Brief\\17_Medicaux_prediction\\frais-medicaux-prediction\\.venv\\Lib\\site-packages\\sklearn\\model_selection\\_search.py:1019\u001b[0m, in \u001b[0;36mBaseSearchCV.fit\u001b[1;34m(self, X, y, **params)\u001b[0m\n\u001b[0;32m   1013\u001b[0m     results \u001b[38;5;241m=\u001b[39m \u001b[38;5;28mself\u001b[39m\u001b[38;5;241m.\u001b[39m_format_results(\n\u001b[0;32m   1014\u001b[0m         all_candidate_params, n_splits, all_out, all_more_results\n\u001b[0;32m   1015\u001b[0m     )\n\u001b[0;32m   1017\u001b[0m     \u001b[38;5;28;01mreturn\u001b[39;00m results\n\u001b[1;32m-> 1019\u001b[0m \u001b[38;5;28;43mself\u001b[39;49m\u001b[38;5;241;43m.\u001b[39;49m\u001b[43m_run_search\u001b[49m\u001b[43m(\u001b[49m\u001b[43mevaluate_candidates\u001b[49m\u001b[43m)\u001b[49m\n\u001b[0;32m   1021\u001b[0m \u001b[38;5;66;03m# multimetric is determined here because in the case of a callable\u001b[39;00m\n\u001b[0;32m   1022\u001b[0m \u001b[38;5;66;03m# self.scoring the return type is only known after calling\u001b[39;00m\n\u001b[0;32m   1023\u001b[0m first_test_score \u001b[38;5;241m=\u001b[39m all_out[\u001b[38;5;241m0\u001b[39m][\u001b[38;5;124m\"\u001b[39m\u001b[38;5;124mtest_scores\u001b[39m\u001b[38;5;124m\"\u001b[39m]\n",
      "File \u001b[1;32mc:\\Users\\Patrick\\OneDrive\\Documents\\Etude\\Simplon\\Brief\\17_Medicaux_prediction\\frais-medicaux-prediction\\.venv\\Lib\\site-packages\\sklearn\\model_selection\\_search.py:1960\u001b[0m, in \u001b[0;36mRandomizedSearchCV._run_search\u001b[1;34m(self, evaluate_candidates)\u001b[0m\n\u001b[0;32m   1958\u001b[0m \u001b[38;5;28;01mdef\u001b[39;00m \u001b[38;5;21m_run_search\u001b[39m(\u001b[38;5;28mself\u001b[39m, evaluate_candidates):\n\u001b[0;32m   1959\u001b[0m \u001b[38;5;250m    \u001b[39m\u001b[38;5;124;03m\"\"\"Search n_iter candidates from param_distributions\"\"\"\u001b[39;00m\n\u001b[1;32m-> 1960\u001b[0m     \u001b[43mevaluate_candidates\u001b[49m\u001b[43m(\u001b[49m\n\u001b[0;32m   1961\u001b[0m \u001b[43m        \u001b[49m\u001b[43mParameterSampler\u001b[49m\u001b[43m(\u001b[49m\n\u001b[0;32m   1962\u001b[0m \u001b[43m            \u001b[49m\u001b[38;5;28;43mself\u001b[39;49m\u001b[38;5;241;43m.\u001b[39;49m\u001b[43mparam_distributions\u001b[49m\u001b[43m,\u001b[49m\u001b[43m \u001b[49m\u001b[38;5;28;43mself\u001b[39;49m\u001b[38;5;241;43m.\u001b[39;49m\u001b[43mn_iter\u001b[49m\u001b[43m,\u001b[49m\u001b[43m \u001b[49m\u001b[43mrandom_state\u001b[49m\u001b[38;5;241;43m=\u001b[39;49m\u001b[38;5;28;43mself\u001b[39;49m\u001b[38;5;241;43m.\u001b[39;49m\u001b[43mrandom_state\u001b[49m\n\u001b[0;32m   1963\u001b[0m \u001b[43m        \u001b[49m\u001b[43m)\u001b[49m\n\u001b[0;32m   1964\u001b[0m \u001b[43m    \u001b[49m\u001b[43m)\u001b[49m\n",
      "File \u001b[1;32mc:\\Users\\Patrick\\OneDrive\\Documents\\Etude\\Simplon\\Brief\\17_Medicaux_prediction\\frais-medicaux-prediction\\.venv\\Lib\\site-packages\\sklearn\\model_selection\\_search.py:965\u001b[0m, in \u001b[0;36mBaseSearchCV.fit.<locals>.evaluate_candidates\u001b[1;34m(candidate_params, cv, more_results)\u001b[0m\n\u001b[0;32m    957\u001b[0m \u001b[38;5;28;01mif\u001b[39;00m \u001b[38;5;28mself\u001b[39m\u001b[38;5;241m.\u001b[39mverbose \u001b[38;5;241m>\u001b[39m \u001b[38;5;241m0\u001b[39m:\n\u001b[0;32m    958\u001b[0m     \u001b[38;5;28mprint\u001b[39m(\n\u001b[0;32m    959\u001b[0m         \u001b[38;5;124m\"\u001b[39m\u001b[38;5;124mFitting \u001b[39m\u001b[38;5;132;01m{0}\u001b[39;00m\u001b[38;5;124m folds for each of \u001b[39m\u001b[38;5;132;01m{1}\u001b[39;00m\u001b[38;5;124m candidates,\u001b[39m\u001b[38;5;124m\"\u001b[39m\n\u001b[0;32m    960\u001b[0m         \u001b[38;5;124m\"\u001b[39m\u001b[38;5;124m totalling \u001b[39m\u001b[38;5;132;01m{2}\u001b[39;00m\u001b[38;5;124m fits\u001b[39m\u001b[38;5;124m\"\u001b[39m\u001b[38;5;241m.\u001b[39mformat(\n\u001b[0;32m    961\u001b[0m             n_splits, n_candidates, n_candidates \u001b[38;5;241m*\u001b[39m n_splits\n\u001b[0;32m    962\u001b[0m         )\n\u001b[0;32m    963\u001b[0m     )\n\u001b[1;32m--> 965\u001b[0m out \u001b[38;5;241m=\u001b[39m \u001b[43mparallel\u001b[49m\u001b[43m(\u001b[49m\n\u001b[0;32m    966\u001b[0m \u001b[43m    \u001b[49m\u001b[43mdelayed\u001b[49m\u001b[43m(\u001b[49m\u001b[43m_fit_and_score\u001b[49m\u001b[43m)\u001b[49m\u001b[43m(\u001b[49m\n\u001b[0;32m    967\u001b[0m \u001b[43m        \u001b[49m\u001b[43mclone\u001b[49m\u001b[43m(\u001b[49m\u001b[43mbase_estimator\u001b[49m\u001b[43m)\u001b[49m\u001b[43m,\u001b[49m\n\u001b[0;32m    968\u001b[0m \u001b[43m        \u001b[49m\u001b[43mX\u001b[49m\u001b[43m,\u001b[49m\n\u001b[0;32m    969\u001b[0m \u001b[43m        \u001b[49m\u001b[43my\u001b[49m\u001b[43m,\u001b[49m\n\u001b[0;32m    970\u001b[0m \u001b[43m        \u001b[49m\u001b[43mtrain\u001b[49m\u001b[38;5;241;43m=\u001b[39;49m\u001b[43mtrain\u001b[49m\u001b[43m,\u001b[49m\n\u001b[0;32m    971\u001b[0m \u001b[43m        \u001b[49m\u001b[43mtest\u001b[49m\u001b[38;5;241;43m=\u001b[39;49m\u001b[43mtest\u001b[49m\u001b[43m,\u001b[49m\n\u001b[0;32m    972\u001b[0m \u001b[43m        \u001b[49m\u001b[43mparameters\u001b[49m\u001b[38;5;241;43m=\u001b[39;49m\u001b[43mparameters\u001b[49m\u001b[43m,\u001b[49m\n\u001b[0;32m    973\u001b[0m \u001b[43m        \u001b[49m\u001b[43msplit_progress\u001b[49m\u001b[38;5;241;43m=\u001b[39;49m\u001b[43m(\u001b[49m\u001b[43msplit_idx\u001b[49m\u001b[43m,\u001b[49m\u001b[43m \u001b[49m\u001b[43mn_splits\u001b[49m\u001b[43m)\u001b[49m\u001b[43m,\u001b[49m\n\u001b[0;32m    974\u001b[0m \u001b[43m        \u001b[49m\u001b[43mcandidate_progress\u001b[49m\u001b[38;5;241;43m=\u001b[39;49m\u001b[43m(\u001b[49m\u001b[43mcand_idx\u001b[49m\u001b[43m,\u001b[49m\u001b[43m \u001b[49m\u001b[43mn_candidates\u001b[49m\u001b[43m)\u001b[49m\u001b[43m,\u001b[49m\n\u001b[0;32m    975\u001b[0m \u001b[43m        \u001b[49m\u001b[38;5;241;43m*\u001b[39;49m\u001b[38;5;241;43m*\u001b[39;49m\u001b[43mfit_and_score_kwargs\u001b[49m\u001b[43m,\u001b[49m\n\u001b[0;32m    976\u001b[0m \u001b[43m    \u001b[49m\u001b[43m)\u001b[49m\n\u001b[0;32m    977\u001b[0m \u001b[43m    \u001b[49m\u001b[38;5;28;43;01mfor\u001b[39;49;00m\u001b[43m \u001b[49m\u001b[43m(\u001b[49m\u001b[43mcand_idx\u001b[49m\u001b[43m,\u001b[49m\u001b[43m \u001b[49m\u001b[43mparameters\u001b[49m\u001b[43m)\u001b[49m\u001b[43m,\u001b[49m\u001b[43m \u001b[49m\u001b[43m(\u001b[49m\u001b[43msplit_idx\u001b[49m\u001b[43m,\u001b[49m\u001b[43m \u001b[49m\u001b[43m(\u001b[49m\u001b[43mtrain\u001b[49m\u001b[43m,\u001b[49m\u001b[43m \u001b[49m\u001b[43mtest\u001b[49m\u001b[43m)\u001b[49m\u001b[43m)\u001b[49m\u001b[43m \u001b[49m\u001b[38;5;129;43;01min\u001b[39;49;00m\u001b[43m \u001b[49m\u001b[43mproduct\u001b[49m\u001b[43m(\u001b[49m\n\u001b[0;32m    978\u001b[0m \u001b[43m        \u001b[49m\u001b[38;5;28;43menumerate\u001b[39;49m\u001b[43m(\u001b[49m\u001b[43mcandidate_params\u001b[49m\u001b[43m)\u001b[49m\u001b[43m,\u001b[49m\n\u001b[0;32m    979\u001b[0m \u001b[43m        \u001b[49m\u001b[38;5;28;43menumerate\u001b[39;49m\u001b[43m(\u001b[49m\u001b[43mcv\u001b[49m\u001b[38;5;241;43m.\u001b[39;49m\u001b[43msplit\u001b[49m\u001b[43m(\u001b[49m\u001b[43mX\u001b[49m\u001b[43m,\u001b[49m\u001b[43m \u001b[49m\u001b[43my\u001b[49m\u001b[43m,\u001b[49m\u001b[43m \u001b[49m\u001b[38;5;241;43m*\u001b[39;49m\u001b[38;5;241;43m*\u001b[39;49m\u001b[43mrouted_params\u001b[49m\u001b[38;5;241;43m.\u001b[39;49m\u001b[43msplitter\u001b[49m\u001b[38;5;241;43m.\u001b[39;49m\u001b[43msplit\u001b[49m\u001b[43m)\u001b[49m\u001b[43m)\u001b[49m\u001b[43m,\u001b[49m\n\u001b[0;32m    980\u001b[0m \u001b[43m    \u001b[49m\u001b[43m)\u001b[49m\n\u001b[0;32m    981\u001b[0m \u001b[43m\u001b[49m\u001b[43m)\u001b[49m\n\u001b[0;32m    983\u001b[0m \u001b[38;5;28;01mif\u001b[39;00m \u001b[38;5;28mlen\u001b[39m(out) \u001b[38;5;241m<\u001b[39m \u001b[38;5;241m1\u001b[39m:\n\u001b[0;32m    984\u001b[0m     \u001b[38;5;28;01mraise\u001b[39;00m \u001b[38;5;167;01mValueError\u001b[39;00m(\n\u001b[0;32m    985\u001b[0m         \u001b[38;5;124m\"\u001b[39m\u001b[38;5;124mNo fits were performed. \u001b[39m\u001b[38;5;124m\"\u001b[39m\n\u001b[0;32m    986\u001b[0m         \u001b[38;5;124m\"\u001b[39m\u001b[38;5;124mWas the CV iterator empty? \u001b[39m\u001b[38;5;124m\"\u001b[39m\n\u001b[0;32m    987\u001b[0m         \u001b[38;5;124m\"\u001b[39m\u001b[38;5;124mWere there no candidates?\u001b[39m\u001b[38;5;124m\"\u001b[39m\n\u001b[0;32m    988\u001b[0m     )\n",
      "File \u001b[1;32mc:\\Users\\Patrick\\OneDrive\\Documents\\Etude\\Simplon\\Brief\\17_Medicaux_prediction\\frais-medicaux-prediction\\.venv\\Lib\\site-packages\\sklearn\\utils\\parallel.py:74\u001b[0m, in \u001b[0;36mParallel.__call__\u001b[1;34m(self, iterable)\u001b[0m\n\u001b[0;32m     69\u001b[0m config \u001b[38;5;241m=\u001b[39m get_config()\n\u001b[0;32m     70\u001b[0m iterable_with_config \u001b[38;5;241m=\u001b[39m (\n\u001b[0;32m     71\u001b[0m     (_with_config(delayed_func, config), args, kwargs)\n\u001b[0;32m     72\u001b[0m     \u001b[38;5;28;01mfor\u001b[39;00m delayed_func, args, kwargs \u001b[38;5;129;01min\u001b[39;00m iterable\n\u001b[0;32m     73\u001b[0m )\n\u001b[1;32m---> 74\u001b[0m \u001b[38;5;28;01mreturn\u001b[39;00m \u001b[38;5;28;43msuper\u001b[39;49m\u001b[43m(\u001b[49m\u001b[43m)\u001b[49m\u001b[38;5;241;43m.\u001b[39;49m\u001b[38;5;21;43m__call__\u001b[39;49m\u001b[43m(\u001b[49m\u001b[43miterable_with_config\u001b[49m\u001b[43m)\u001b[49m\n",
      "File \u001b[1;32mc:\\Users\\Patrick\\OneDrive\\Documents\\Etude\\Simplon\\Brief\\17_Medicaux_prediction\\frais-medicaux-prediction\\.venv\\Lib\\site-packages\\joblib\\parallel.py:2007\u001b[0m, in \u001b[0;36mParallel.__call__\u001b[1;34m(self, iterable)\u001b[0m\n\u001b[0;32m   2001\u001b[0m \u001b[38;5;66;03m# The first item from the output is blank, but it makes the interpreter\u001b[39;00m\n\u001b[0;32m   2002\u001b[0m \u001b[38;5;66;03m# progress until it enters the Try/Except block of the generator and\u001b[39;00m\n\u001b[0;32m   2003\u001b[0m \u001b[38;5;66;03m# reaches the first `yield` statement. This starts the asynchronous\u001b[39;00m\n\u001b[0;32m   2004\u001b[0m \u001b[38;5;66;03m# dispatch of the tasks to the workers.\u001b[39;00m\n\u001b[0;32m   2005\u001b[0m \u001b[38;5;28mnext\u001b[39m(output)\n\u001b[1;32m-> 2007\u001b[0m \u001b[38;5;28;01mreturn\u001b[39;00m output \u001b[38;5;28;01mif\u001b[39;00m \u001b[38;5;28mself\u001b[39m\u001b[38;5;241m.\u001b[39mreturn_generator \u001b[38;5;28;01melse\u001b[39;00m \u001b[38;5;28;43mlist\u001b[39;49m\u001b[43m(\u001b[49m\u001b[43moutput\u001b[49m\u001b[43m)\u001b[49m\n",
      "File \u001b[1;32mc:\\Users\\Patrick\\OneDrive\\Documents\\Etude\\Simplon\\Brief\\17_Medicaux_prediction\\frais-medicaux-prediction\\.venv\\Lib\\site-packages\\joblib\\parallel.py:1650\u001b[0m, in \u001b[0;36mParallel._get_outputs\u001b[1;34m(self, iterator, pre_dispatch)\u001b[0m\n\u001b[0;32m   1647\u001b[0m     \u001b[38;5;28;01myield\u001b[39;00m\n\u001b[0;32m   1649\u001b[0m     \u001b[38;5;28;01mwith\u001b[39;00m \u001b[38;5;28mself\u001b[39m\u001b[38;5;241m.\u001b[39m_backend\u001b[38;5;241m.\u001b[39mretrieval_context():\n\u001b[1;32m-> 1650\u001b[0m         \u001b[38;5;28;01myield from\u001b[39;00m \u001b[38;5;28mself\u001b[39m\u001b[38;5;241m.\u001b[39m_retrieve()\n\u001b[0;32m   1652\u001b[0m \u001b[38;5;28;01mexcept\u001b[39;00m \u001b[38;5;167;01mGeneratorExit\u001b[39;00m:\n\u001b[0;32m   1653\u001b[0m     \u001b[38;5;66;03m# The generator has been garbage collected before being fully\u001b[39;00m\n\u001b[0;32m   1654\u001b[0m     \u001b[38;5;66;03m# consumed. This aborts the remaining tasks if possible and warn\u001b[39;00m\n\u001b[0;32m   1655\u001b[0m     \u001b[38;5;66;03m# the user if necessary.\u001b[39;00m\n\u001b[0;32m   1656\u001b[0m     \u001b[38;5;28mself\u001b[39m\u001b[38;5;241m.\u001b[39m_exception \u001b[38;5;241m=\u001b[39m \u001b[38;5;28;01mTrue\u001b[39;00m\n",
      "File \u001b[1;32mc:\\Users\\Patrick\\OneDrive\\Documents\\Etude\\Simplon\\Brief\\17_Medicaux_prediction\\frais-medicaux-prediction\\.venv\\Lib\\site-packages\\joblib\\parallel.py:1762\u001b[0m, in \u001b[0;36mParallel._retrieve\u001b[1;34m(self)\u001b[0m\n\u001b[0;32m   1757\u001b[0m \u001b[38;5;66;03m# If the next job is not ready for retrieval yet, we just wait for\u001b[39;00m\n\u001b[0;32m   1758\u001b[0m \u001b[38;5;66;03m# async callbacks to progress.\u001b[39;00m\n\u001b[0;32m   1759\u001b[0m \u001b[38;5;28;01mif\u001b[39;00m ((\u001b[38;5;28mlen\u001b[39m(\u001b[38;5;28mself\u001b[39m\u001b[38;5;241m.\u001b[39m_jobs) \u001b[38;5;241m==\u001b[39m \u001b[38;5;241m0\u001b[39m) \u001b[38;5;129;01mor\u001b[39;00m\n\u001b[0;32m   1760\u001b[0m     (\u001b[38;5;28mself\u001b[39m\u001b[38;5;241m.\u001b[39m_jobs[\u001b[38;5;241m0\u001b[39m]\u001b[38;5;241m.\u001b[39mget_status(\n\u001b[0;32m   1761\u001b[0m         timeout\u001b[38;5;241m=\u001b[39m\u001b[38;5;28mself\u001b[39m\u001b[38;5;241m.\u001b[39mtimeout) \u001b[38;5;241m==\u001b[39m TASK_PENDING)):\n\u001b[1;32m-> 1762\u001b[0m     \u001b[43mtime\u001b[49m\u001b[38;5;241;43m.\u001b[39;49m\u001b[43msleep\u001b[49m\u001b[43m(\u001b[49m\u001b[38;5;241;43m0.01\u001b[39;49m\u001b[43m)\u001b[49m\n\u001b[0;32m   1763\u001b[0m     \u001b[38;5;28;01mcontinue\u001b[39;00m\n\u001b[0;32m   1765\u001b[0m \u001b[38;5;66;03m# We need to be careful: the job list can be filling up as\u001b[39;00m\n\u001b[0;32m   1766\u001b[0m \u001b[38;5;66;03m# we empty it and Python list are not thread-safe by\u001b[39;00m\n\u001b[0;32m   1767\u001b[0m \u001b[38;5;66;03m# default hence the use of the lock\u001b[39;00m\n",
      "\u001b[1;31mKeyboardInterrupt\u001b[0m: "
     ]
    }
   ],
   "source": [
    "from sklearn.ensemble import RandomForestRegressor\n",
    "from sklearn.model_selection import LeaveOneOut, cross_val_score\n",
    "from sklearn.model_selection import RandomizedSearchCV\n",
    "import numpy as np\n",
    "\n",
    "# Définir les hyperparamètres à tester\n",
    "param_dist = {\n",
    "    'n_estimators': [100, 200, 300, 400, 500],\n",
    "    'max_depth': [10, 20, 30, None],\n",
    "    'min_samples_split': [2, 5, 10],\n",
    "    'min_samples_leaf': [1, 2, 4],\n",
    "    'max_features': ['sqrt', 'log2', None]  # Remplacer 'auto' par None\n",
    "}\n",
    "\n",
    "\n",
    "# Initialiser Leave-One-Out Cross-Validation\n",
    "loo = LeaveOneOut()\n",
    "\n",
    "# Initialiser le modèle\n",
    "rf = RandomForestRegressor(random_state=42)\n",
    "\n",
    "# RandomizedSearchCV\n",
    "random_search = RandomizedSearchCV(\n",
    "    estimator=rf,\n",
    "    param_distributions=param_dist,\n",
    "    n_iter=50,  # Nombre d'itérations à tester\n",
    "    cv=loo,  # Validation croisée\n",
    "    scoring='neg_mean_squared_error',  # Métrique d'évaluation\n",
    "    random_state=42,\n",
    "    n_jobs=-1  # Utiliser tous les cœurs disponibles\n",
    ")\n",
    "\n",
    "# Entraîner le modèle avec RandomizedSearchCV\n",
    "random_search.fit(features_train, target_train)\n",
    "\n",
    "# Meilleurs hyperparamètres trouvés\n",
    "print(\"Best Hyperparameters:\", random_search.best_params_)\n",
    "\n",
    "# Modèle optimisé\n",
    "best_rf = random_search.best_estimator_\n",
    "\n",
    "# Prédictions sur le jeu de test\n",
    "y_pred = best_rf.predict(features_test)\n",
    "\n",
    "# Évaluer les métriques\n",
    "print(\"MAE:\", mean_absolute_error(target_test, y_pred))\n",
    "print(\"MSE:\", mean_squared_error(target_test, y_pred))\n",
    "print(\"R2 Score:\", r2_score(target_test, y_pred))"
   ]
  },
  {
   "cell_type": "markdown",
   "metadata": {},
   "source": [
    "**LOOCV** est trop long à exécuter. Cette méthode ne sera pas choisi"
   ]
  },
  {
   "cell_type": "markdown",
   "metadata": {},
   "source": [
    "#### b. Stratified K-fold"
   ]
  },
  {
   "cell_type": "code",
   "execution_count": 20,
   "metadata": {},
   "outputs": [
    {
     "name": "stdout",
     "output_type": "stream",
     "text": [
      "Best Hyperparameters: {'n_estimators': 400, 'min_samples_split': 10, 'min_samples_leaf': 4, 'max_features': None, 'max_depth': 20}\n",
      "MAE: 0.14863650537400253\n",
      "MSE: 0.10436719384049951\n",
      "R2 Score: 0.8674770790639306\n"
     ]
    }
   ],
   "source": [
    "from sklearn.ensemble import RandomForestRegressor\n",
    "from sklearn.model_selection import StratifiedKFold, cross_val_score\n",
    "from sklearn.model_selection import RandomizedSearchCV\n",
    "import numpy as np\n",
    "\n",
    "# Définir les hyperparamètres à tester\n",
    "param_dist = {\n",
    "    'n_estimators': [100, 200, 300, 400, 500],\n",
    "    'max_depth': [10, 20, 30, None],\n",
    "    'min_samples_split': [2, 5, 10],\n",
    "    'min_samples_leaf': [1, 2, 4],\n",
    "    'max_features': ['sqrt', 'log2', None]\n",
    "}\n",
    "\n",
    "# Catégorisation (binning) de la variable cible `target`\n",
    "n_bins = 5\n",
    "y_binned = pd.qcut(target, q=n_bins, labels=False)\n",
    "\n",
    "# Initialiser StratifiedKFold\n",
    "skf = StratifiedKFold(n_splits=5, shuffle=True, random_state=42)\n",
    "\n",
    "# Initialiser le modèle\n",
    "rf = RandomForestRegressor(random_state=42)\n",
    "\n",
    "# RandomizedSearchCV avec StratifiedKFold\n",
    "random_search = RandomizedSearchCV(\n",
    "    estimator=rf,\n",
    "    param_distributions=param_dist,\n",
    "    n_iter=50,\n",
    "    cv=skf.split(features, y_binned),  # Utiliser y_binned pour stratification\n",
    "    scoring='neg_mean_squared_error',\n",
    "    random_state=42,\n",
    "    n_jobs=-1\n",
    ")\n",
    "\n",
    "# Entraîner le modèle avec RandomizedSearchCV\n",
    "random_search.fit(features, target)\n",
    "\n",
    "# Meilleurs hyperparamètres trouvés\n",
    "print(\"Best Hyperparameters:\", random_search.best_params_)\n",
    "\n",
    "# Modèle optimisé\n",
    "best_rf = random_search.best_estimator_\n",
    "\n",
    "# Prédictions sur le jeu de test\n",
    "y_pred = best_rf.predict(features_test)\n",
    "\n",
    "# Évaluer les métriques\n",
    "print(\"MAE:\", mean_absolute_error(target_test, y_pred))\n",
    "print(\"MSE:\", mean_squared_error(target_test, y_pred))\n",
    "print(\"R2 Score:\", r2_score(target_test, y_pred))"
   ]
  },
  {
   "cell_type": "markdown",
   "metadata": {},
   "source": [
    "J'ai choisi d'utiliser la validation croisée stratifiée pour garantir une répartition équilibrée des catégories de la cible dans chaque pli, ce qui permet une évaluation plus robuste et représentative des performances du modèle. Avec les hyperparamètres optimaux, mon modèle Random Forest atteint un R² de **0.867**, confirmant sa capacité à généraliser efficacement."
   ]
  },
  {
   "cell_type": "code",
   "execution_count": 22,
   "metadata": {},
   "outputs": [
    {
     "name": "stdout",
     "output_type": "stream",
     "text": [
      "Mean MSE: 0.14624715949064643\n",
      "Std MSE: 0.020136754711565584\n",
      "R² Final: 0.8674770790639306\n"
     ]
    }
   ],
   "source": [
    "from sklearn.model_selection import cross_val_score\n",
    "\n",
    "# Initialiser le modèle avec les meilleurs hyperparamètres\n",
    "final_model = RandomForestRegressor(\n",
    "    n_estimators=400,\n",
    "    min_samples_split=10,\n",
    "    min_samples_leaf=4,\n",
    "    max_features=None,\n",
    "    max_depth=20,\n",
    "    random_state=42\n",
    ")\n",
    "\n",
    "# Catégorisation (binning) de la variable cible `target`\n",
    "n_bins = 5\n",
    "y_binned = pd.qcut(target, q=n_bins, labels=False)\n",
    "\n",
    "# Validation croisée stratifiée\n",
    "final_scores = cross_val_score(\n",
    "    final_model, features, target, cv=skf.split(features, y_binned), scoring='neg_mean_squared_error', n_jobs=-1\n",
    ")\n",
    "\n",
    "# Afficher les métriques\n",
    "mse_scores = -final_scores  # Convertir les scores négatifs en MSE\n",
    "print(\"Mean MSE:\", np.mean(mse_scores))\n",
    "print(\"Std MSE:\", np.std(mse_scores))\n",
    "print(\"R² Final:\", final_model.fit(features, target).score(features_test, target_test))\n"
   ]
  },
  {
   "cell_type": "markdown",
   "metadata": {},
   "source": [
    "## Phase 4 : Évaluation des modèles"
   ]
  },
  {
   "cell_type": "markdown",
   "metadata": {},
   "source": [
    "Après avoir validé les hyperparamètres du modèle Random Forest avec une validation croisée stratifiée et obtenu de bonnes performances sur les métriques principales (R² : **0.867**, MAE : **0.1486**, RMSE : **0.3231**), il me reste à visualiser les résultats pour confirmer la répartition des erreurs et la capacité du modèle à prédire les dépenses médicales. Cette étape inclura l'analyse des résidus et la comparaison entre les valeurs prédites et réelles pour évaluer l'ajustement global du modèle."
   ]
  },
  {
   "cell_type": "code",
   "execution_count": 27,
   "metadata": {},
   "outputs": [
    {
     "data": {
      "image/png": "[encoded data removed]",
      "text/plain": [
       "<Figure size 800x600 with 1 Axes>"
      ]
     },
     "metadata": {},
     "output_type": "display_data"
    }
   ],
   "source": [
    "import matplotlib.pyplot as plt\n",
    "\n",
    "y_pred = final_model.predict(features_test)\n",
    "\n",
    "# Résidus (différence entre valeurs réelles et prédites)\n",
    "residuals = target_test - y_pred\n",
    "\n",
    "# Scatter plot des résidus\n",
    "plt.figure(figsize=(8, 6))\n",
    "plt.scatter(target_test, residuals, alpha=0.6, color=\"blue\")\n",
    "plt.axhline(0, color='red', linestyle='--')\n",
    "plt.title(\"Résidus (Valeurs réelles vs Erreurs)\")\n",
    "plt.xlabel(\"Valeurs réelles\")\n",
    "plt.ylabel(\"Résidus\")\n",
    "plt.show()"
   ]
  },
  {
   "cell_type": "markdown",
   "metadata": {},
   "source": [
    "**Analyse des résidus :**\n",
    "- Répartition autour de zéro :\n",
    "    - La majorité des points semblent proches de la ligne rouge (résidu = 0), ce qui indique que les prédictions sont globalement précises.\n",
    "    - Cela montre que le modèle capte bien les tendances générales.\n",
    "- Écarts dans les valeurs élevées :\n",
    "    - Les résidus augmentent pour certaines valeurs réelles élevées, ce qui peut indiquer que le modèle sous-estime légèrement les dépenses médicales les plus élevées.\n",
    "- Distribution globale :\n",
    "    - Les résidus semblent relativement aléatoires, ce qui est un bon signe (pas de structure systématique visible).\n",
    "    - Cependant, quelques points éloignés de la ligne rouge pourraient correspondre à des outliers ou des cas difficiles à modéliser."
   ]
  },
  {
   "cell_type": "markdown",
   "metadata": {},
   "source": [
    "## Phase 5 : Interprétation des résultats et recommandations business"
   ]
  },
  {
   "cell_type": "code",
   "execution_count": 28,
   "metadata": {},
   "outputs": [
    {
     "data": {
      "image/png": "[encoded data removed]",
      "text/plain": [
       "<Figure size 800x600 with 1 Axes>"
      ]
     },
     "metadata": {},
     "output_type": "display_data"
    }
   ],
   "source": [
    "import matplotlib.pyplot as plt\n",
    "\n",
    "# Importance des caractéristiques\n",
    "importances = final_model.feature_importances_\n",
    "feature_names = features.columns\n",
    "\n",
    "# Tri par importance\n",
    "sorted_idx = np.argsort(importances)[::-1]\n",
    "plt.figure(figsize=(8, 6))\n",
    "plt.barh(feature_names[sorted_idx], importances[sorted_idx], color='skyblue')\n",
    "plt.title(\"Importance des caractéristiques\")\n",
    "plt.xlabel(\"Score d'importance\")\n",
    "plt.show()"
   ]
  },
  {
   "cell_type": "markdown",
   "metadata": {},
   "source": [
    "Le modèle `Random Forest` met en évidence que les deux variables les plus influentes sur les dépenses médicales sont le **statut de fumeur** et **l'âge**. Les fumeurs ont un impact particulièrement significatif, confirmant que le tabagisme est un facteur clé des coûts médicaux élevés. Les autres variables, comme le **BMI** (indice de masse corporelle), jouent également un rôle, bien qu'elles soient moins déterminantes. Les variables régionales, le sexe et le nombre d'enfants ont un effet négligeable.\n",
    "\n",
    "Recommandations business :\n",
    "- **Focus sur les fumeurs** : Prioriser des campagnes anti-tabac et proposer des incitations financières pour réduire le tabagisme. Cela pourrait significativement diminuer les coûts médicaux.\n",
    "- **Groupes d'âge ciblés** : Mettre en place des politiques de prévention adaptées aux populations âgées, comme des bilans de santé réguliers.\n",
    "- **Prévention liée au BMI** : Développer des programmes pour sensibiliser à l'obésité et encourager des habitudes de vie saines, avec un potentiel impact positif sur les coûts.\n",
    "- **Optimisation des ressources** : Réorienter les efforts marketing ou les interventions vers les groupes les plus à risque identifiés (fumeurs et personnes âgées) pour maximiser l'impact des initiatives."
   ]
  },
  {
   "cell_type": "markdown",
   "metadata": {},
   "source": [
    "## Phase 6 : Exportation et utilisation du modèle final"
   ]
  },
  {
   "cell_type": "code",
   "execution_count": 29,
   "metadata": {},
   "outputs": [],
   "source": [
    "with open(COLUMN_FILE, 'wb') as file:\n",
    "    pickle.dump(features.columns.to_list(), file)\n",
    "\n",
    "with open(TRAINING_FILE, 'wb') as file:\n",
    "    pickle.dump(best_rf, file)"
   ]
  }
 ],
 "metadata": {
  "kernelspec": {
   "display_name": ".venv",
   "language": "python",
   "name": "python3"
  },
  "language_info": {
   "codemirror_mode": {
    "name": "ipython",
    "version": 3
   },
   "file_extension": ".py",
   "mimetype": "text/x-python",
   "name": "python",
   "nbconvert_exporter": "python",
   "pygments_lexer": "ipython3",
   "version": "3.12.6"
  }
 },
 "nbformat": 4,
 "nbformat_minor": 2
}
